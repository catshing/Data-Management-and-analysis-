{
 "cells": [
  {
   "cell_type": "markdown",
   "metadata": {},
   "source": [
    "Steps: \n",
    "1. Open csv file \n",
    "2. Create a dictionary \n",
    "3. For each year as key, I find out the number of attacks and the number of successful attacks (both are values)\n",
    "4. Sort the year \n",
    "5. Divide number of success attacks over number of attacks per year \n",
    "\n",
    "From this, I can find out then total number of attacks per year and the success rate of terrorist attacks per year as well "
   ]
  },
  {
   "cell_type": "code",
   "execution_count": 1,
   "metadata": {},
   "outputs": [
    {
     "name": "stdout",
     "output_type": "stream",
     "text": [
      "year    attacks    success\n",
      "1970    651    549\n",
      "1971    471    420\n",
      "1972    568    452\n",
      "1973    473    433\n",
      "1974    581    545\n",
      "1975    740    705\n",
      "1976    923    861\n",
      "1977    1319    1191\n",
      "1978    1526    1411\n",
      "1979    2662    2408\n",
      "1980    2662    2387\n",
      "1981    2586    2354\n",
      "1982    2544    2373\n",
      "1983    2870    2660\n",
      "1984    3495    3282\n",
      "1985    2915    2727\n",
      "1986    2860    2670\n",
      "1987    3183    2933\n",
      "1988    3721    3440\n",
      "1989    4324    4008\n",
      "1990    3887    3583\n",
      "1991    4683    4299\n",
      "1992    5071    4560\n",
      "1994    3456    3069\n",
      "1995    3081    2794\n",
      "1996    3058    2770\n",
      "1997    3197    2966\n",
      "1998    934    859\n",
      "1999    1395    1237\n",
      "2000    1814    1637\n",
      "2001    1906    1689\n",
      "2002    1333    1213\n",
      "2003    1278    1149\n",
      "2004    1166    1080\n",
      "2005    2017    1910\n",
      "2006    2758    2660\n",
      "2007    3242    3123\n",
      "2008    4805    4402\n",
      "2009    4721    4430\n",
      "2010    4826    4385\n",
      "2011    5076    4606\n",
      "2012    8522    7600\n",
      "2013    12036    10484\n",
      "2014    16903    15015\n",
      "2015    14965    12676\n",
      "2016    13587    10975\n",
      "2017    10900    8652\n",
      "end\n"
     ]
    }
   ],
   "source": [
    "import csv\n",
    "\n",
    "with open('terrorism_data.csv', encoding=\"utf8\", errors='ignore') as csvfile:\n",
    "    reader = csv.DictReader(csvfile)\n",
    "    \n",
    "    stats = {}\n",
    "    \n",
    "    for row in reader:\n",
    "        if row['iyear'] in stats:\n",
    "            stats[row['iyear']]['attacks'] += 1\n",
    "            stats[row['iyear']]['success'] += int(row['success'])\n",
    "        else:\n",
    "            stats[row['iyear']] = {'attacks': 1, 'success': int(row['success'])}\n",
    "\n",
    "    print('%s    %s    %s' % ('year', 'attacks', 'success'))\n",
    "    for year, stat in sorted(stats.items()):\n",
    "        print('%s    %s    %s' % (year, stat['attacks'], stat['success']))\n",
    "\n",
    "    print('end')\n",
    "        \n",
    "        "
   ]
  },
  {
   "cell_type": "markdown",
   "metadata": {},
   "source": [
    "This shows the success rate of terrorists attacks per year "
   ]
  },
  {
   "cell_type": "code",
   "execution_count": 2,
   "metadata": {},
   "outputs": [
    {
     "name": "stdout",
     "output_type": "stream",
     "text": [
      "1970    0.8433  \n",
      "1971    0.8917  \n",
      "1972    0.7958  \n",
      "1973    0.9154  \n",
      "1974    0.9380  \n",
      "1975    0.9527  \n",
      "1976    0.9328  \n",
      "1977    0.9030  \n",
      "1978    0.9246  \n",
      "1979    0.9046  \n",
      "1980    0.8967  \n",
      "1981    0.9103  \n",
      "1982    0.9328  \n",
      "1983    0.9268  \n",
      "1984    0.9391  \n",
      "1985    0.9355  \n",
      "1986    0.9336  \n",
      "1987    0.9215  \n",
      "1988    0.9245  \n",
      "1989    0.9269  \n",
      "1990    0.9218  \n",
      "1991    0.9180  \n",
      "1992    0.8992  \n",
      "1994    0.8880  \n",
      "1995    0.9068  \n",
      "1996    0.9058  \n",
      "1997    0.9277  \n",
      "1998    0.9197  \n",
      "1999    0.8867  \n",
      "2000    0.9024  \n",
      "2001    0.8861  \n",
      "2002    0.9100  \n",
      "2003    0.8991  \n",
      "2004    0.9262  \n",
      "2005    0.9470  \n",
      "2006    0.9645  \n",
      "2007    0.9633  \n",
      "2008    0.9161  \n",
      "2009    0.9384  \n",
      "2010    0.9086  \n",
      "2011    0.9074  \n",
      "2012    0.8918  \n",
      "2013    0.8711  \n",
      "2014    0.8883  \n",
      "2015    0.8470  \n",
      "2016    0.8078  \n",
      "2017    0.7938  \n"
     ]
    }
   ],
   "source": [
    "for year, stat in sorted(stats.items()):\n",
    "        print('%s    %0.4f  ' % (year,  stat['success'] / stat['attacks']))"
   ]
  },
  {
   "cell_type": "code",
   "execution_count": null,
   "metadata": {},
   "outputs": [],
   "source": []
  },
  {
   "cell_type": "code",
   "execution_count": null,
   "metadata": {},
   "outputs": [],
   "source": []
  }
 ],
 "metadata": {
  "kernelspec": {
   "display_name": "Python 3",
   "language": "python",
   "name": "python3"
  },
  "language_info": {
   "codemirror_mode": {
    "name": "ipython",
    "version": 3
   },
   "file_extension": ".py",
   "mimetype": "text/x-python",
   "name": "python",
   "nbconvert_exporter": "python",
   "pygments_lexer": "ipython3",
   "version": "3.7.0"
  }
 },
 "nbformat": 4,
 "nbformat_minor": 2
}
