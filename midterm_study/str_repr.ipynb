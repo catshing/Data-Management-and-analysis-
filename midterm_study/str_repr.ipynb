{
 "cells": [
  {
   "cell_type": "markdown",
   "metadata": {},
   "source": [
    "#__str__ vs __repr__\n",
    "\n",
    "__str__ -> easy to read for humans \n",
    "\n",
    "__repr__ -> unambigiuous, explicit as possible for what this object is\n",
    "\n",
    "        -> easy to debug, not to display that to users "
   ]
  },
  {
   "cell_type": "code",
   "execution_count": 34,
   "metadata": {},
   "outputs": [
    {
     "name": "stdout",
     "output_type": "stream",
     "text": [
      "Cat\n"
     ]
    },
    {
     "data": {
      "text/plain": [
       "Cat is 21 years old"
      ]
     },
     "execution_count": 34,
     "metadata": {},
     "output_type": "execute_result"
    }
   ],
   "source": [
    "class Person: \n",
    "    def __init__(self, name, age): \n",
    "        self.name = name\n",
    "        self.age = age\n",
    "    def __str__(self): \n",
    "        return '{self.name}'.format(self=self)\n",
    "    def __repr__(self): \n",
    "        return '{self.name} is {self.age} years old'.format(self = self)    \n",
    "person = Person('Cat',21)\n",
    "print(person)\n",
    "person\n"
   ]
  },
  {
   "cell_type": "code",
   "execution_count": null,
   "metadata": {},
   "outputs": [],
   "source": []
  },
  {
   "cell_type": "code",
   "execution_count": null,
   "metadata": {},
   "outputs": [],
   "source": []
  }
 ],
 "metadata": {
  "kernelspec": {
   "display_name": "Python 3",
   "language": "python",
   "name": "python3"
  },
  "language_info": {
   "codemirror_mode": {
    "name": "ipython",
    "version": 3
   },
   "file_extension": ".py",
   "mimetype": "text/x-python",
   "name": "python",
   "nbconvert_exporter": "python",
   "pygments_lexer": "ipython3",
   "version": "3.7.0"
  }
 },
 "nbformat": 4,
 "nbformat_minor": 2
}
