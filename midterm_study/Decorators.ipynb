{
 "cells": [
  {
   "cell_type": "markdown",
   "metadata": {},
   "source": [
    "1. Decorators \n",
    "2. Named tuples \n",
    "3. Class"
   ]
  },
  {
   "cell_type": "markdown",
   "metadata": {},
   "source": [
    "***First class  ***\n",
    "\n",
    "functions - treat functions like any other objects\n",
    "\n",
    "e.g. pass functions to other functions as arguments\n",
    "\n",
    "assign functions to variables"
   ]
  },
  {
   "cell_type": "markdown",
   "metadata": {},
   "source": [
    "1. logger function takes in a msg argument \n",
    "2. within this function, have another function called log_message that doesn't take in any message\n",
    "3. returning log_message function that is within our logger function \n",
    "4. set log_hi variable to logger function and pass in a message of hi \n",
    "5. function did not execute at that time since no parenthesis "
   ]
  },
  {
   "cell_type": "code",
   "execution_count": 95,
   "metadata": {},
   "outputs": [
    {
     "name": "stdout",
     "output_type": "stream",
     "text": [
      "<function logger.<locals>.log_message at 0x109b02d08>\n",
      "log hi\n"
     ]
    }
   ],
   "source": [
    "def logger(msg): \n",
    "    def log_message(): \n",
    "        print('log', msg)\n",
    "    return log_message\n",
    "\n",
    "log_hi = logger('hi')\n",
    "log_hi() "
   ]
  },
  {
   "cell_type": "markdown",
   "metadata": {},
   "source": [
    "Closures an inner function that remembers / has access to variable in the local scope in which it was created even after the inner function has finished executing"
   ]
  },
  {
   "cell_type": "code",
   "execution_count": 98,
   "metadata": {},
   "outputs": [
    {
     "name": "stdout",
     "output_type": "stream",
     "text": [
      "hip\n"
     ]
    }
   ],
   "source": [
    "def outer_func(msg): \n",
    "    message = msg\n",
    "    def inner_func(): \n",
    "        print(message)\n",
    "    return inner_func\n",
    "\n",
    "my_func = outer_func('hip')\n",
    "my_func()"
   ]
  },
  {
   "cell_type": "markdown",
   "metadata": {},
   "source": [
    "free variable - message is not created in the inner function but still has access to it"
   ]
  },
  {
   "cell_type": "code",
   "execution_count": 4,
   "metadata": {},
   "outputs": [
    {
     "name": "stdout",
     "output_type": "stream",
     "text": [
      "inner_func\n"
     ]
    }
   ],
   "source": [
    "print(my_func.__name__)"
   ]
  },
  {
   "cell_type": "code",
   "execution_count": 5,
   "metadata": {},
   "outputs": [
    {
     "name": "stdout",
     "output_type": "stream",
     "text": [
      "hip\n",
      "hip\n",
      "hip\n"
     ]
    }
   ],
   "source": [
    "my_func()\n",
    "my_func()\n",
    "my_func()"
   ]
  },
  {
   "cell_type": "markdown",
   "metadata": {},
   "source": [
    "*** Decorators ***\n",
    "\n",
    "a function that takes another function as an argument, add some functionality as returns another function"
   ]
  },
  {
   "cell_type": "markdown",
   "metadata": {},
   "source": [
    "*args, **kwargs allows use to accept any arbinary arguments"
   ]
  },
  {
   "cell_type": "code",
   "execution_count": 21,
   "metadata": {},
   "outputs": [
    {
     "name": "stdout",
     "output_type": "stream",
     "text": [
      "display function ran\n",
      "Cat 21\n"
     ]
    }
   ],
   "source": [
    "def decorator_func(original_func): \n",
    "    def wrapper_func(*args, **kwargs): \n",
    "        return original_func(*args, **kwargs)\n",
    "    return wrapper_func\n",
    "\n",
    "@decorator_func\n",
    "def display(): \n",
    "    print('display function ran')\n",
    " \n",
    "@decorator_func\n",
    "def display_info(name, age): \n",
    "    print(name, age)\n",
    "    \n",
    "##display = decorator_func(display)\n",
    "##display()\n",
    "##same as \n",
    "\n",
    "##display_info = decorator_func(display_info)\n",
    "##display_info(name,age)\n",
    "##same as \n",
    "\n",
    "display()\n",
    "\n",
    "display_info('Cat', 21)\n",
    "\n"
   ]
  },
  {
   "cell_type": "code",
   "execution_count": null,
   "metadata": {},
   "outputs": [],
   "source": []
  },
  {
   "cell_type": "markdown",
   "metadata": {},
   "source": [
    "Why? Easily add functionalities without modifying out original function"
   ]
  },
  {
   "cell_type": "code",
   "execution_count": 7,
   "metadata": {},
   "outputs": [
    {
     "name": "stdout",
     "output_type": "stream",
     "text": [
      "2\n",
      "3\n",
      "index 0 res 4\n",
      "index 1 res 8\n",
      "index 2 res 16\n",
      "16\n"
     ]
    }
   ],
   "source": [
    "def call_it(func, n):\n",
    "    def new_func(x):\n",
    "        res = x\n",
    "        print(res)\n",
    "        print(n)\n",
    "        for i in range(n):\n",
    "            res = func(res)\n",
    "            print('index ' + str(i) + ' res ' + str(res))\n",
    "        return(res)\n",
    "    return new_func\n",
    "\n",
    "def double(num):\n",
    "    return num * 2\n",
    "\n",
    "my_func = call_it(double, 3)\n",
    "print(my_func(2))"
   ]
  },
  {
   "cell_type": "markdown",
   "metadata": {},
   "source": [
    "*** Named Tuples and Class ***"
   ]
  },
  {
   "cell_type": "code",
   "execution_count": 22,
   "metadata": {},
   "outputs": [],
   "source": [
    "from collections import namedtuple"
   ]
  },
  {
   "cell_type": "code",
   "execution_count": 23,
   "metadata": {},
   "outputs": [],
   "source": [
    "Point = namedtuple('Point',['x', 'y'])"
   ]
  },
  {
   "cell_type": "code",
   "execution_count": 27,
   "metadata": {},
   "outputs": [],
   "source": [
    "p = Point(x = 2 ,y = 5)"
   ]
  },
  {
   "cell_type": "code",
   "execution_count": 28,
   "metadata": {},
   "outputs": [
    {
     "data": {
      "text/plain": [
       "2"
      ]
     },
     "execution_count": 28,
     "metadata": {},
     "output_type": "execute_result"
    }
   ],
   "source": [
    "p.x"
   ]
  },
  {
   "cell_type": "code",
   "execution_count": 29,
   "metadata": {},
   "outputs": [
    {
     "data": {
      "text/plain": [
       "__main__.Point"
      ]
     },
     "execution_count": 29,
     "metadata": {},
     "output_type": "execute_result"
    }
   ],
   "source": [
    "type(p)"
   ]
  },
  {
   "cell_type": "code",
   "execution_count": 30,
   "metadata": {},
   "outputs": [
    {
     "data": {
      "text/plain": [
       "type"
      ]
     },
     "execution_count": 30,
     "metadata": {},
     "output_type": "execute_result"
    }
   ],
   "source": [
    "type(Point)"
   ]
  },
  {
   "cell_type": "code",
   "execution_count": 31,
   "metadata": {},
   "outputs": [
    {
     "data": {
      "text/plain": [
       "function"
      ]
     },
     "execution_count": 31,
     "metadata": {},
     "output_type": "execute_result"
    }
   ],
   "source": [
    "type(namedtuple)"
   ]
  },
  {
   "cell_type": "code",
   "execution_count": 58,
   "metadata": {},
   "outputs": [],
   "source": [
    "class Cat: \n",
    "    def __init__(self, name, cuteness): \n",
    "        self.name = name\n",
    "        self.cuteness = cuteness \n",
    "    def __str__(self): \n",
    "        return \"the cat named {}\".format(self.name)\n",
    "        \n",
    "c = Cat('Catherine',10)"
   ]
  },
  {
   "cell_type": "code",
   "execution_count": 59,
   "metadata": {},
   "outputs": [
    {
     "name": "stdout",
     "output_type": "stream",
     "text": [
      "the cat named Catherine\n"
     ]
    }
   ],
   "source": [
    "print(c)"
   ]
  },
  {
   "cell_type": "code",
   "execution_count": 94,
   "metadata": {},
   "outputs": [
    {
     "name": "stdout",
     "output_type": "stream",
     "text": [
      "your cat Cat is not too cute\n"
     ]
    }
   ],
   "source": [
    "class CutenessError(Exception): \n",
    "    pass\n",
    "\n",
    "class Cat1: \n",
    "    def __init__(self, name, cuteness): \n",
    "        self.name = name\n",
    "        if cuteness > 10: \n",
    "            raise CutenessError(\"{} is too cute.\".format(cuteness))\n",
    "        self.cuteness = cuteness \n",
    "    def __str__(self): \n",
    "        return \"your cat {} is not too cute\".format(self.name)\n",
    "        \n",
    "try: \n",
    "    cat = Cat1('Cat', 4)\n",
    "    print(cat)\n",
    "except CutenessError as e: \n",
    "    print('your cute is too cute')"
   ]
  },
  {
   "cell_type": "code",
   "execution_count": null,
   "metadata": {},
   "outputs": [],
   "source": []
  },
  {
   "cell_type": "code",
   "execution_count": null,
   "metadata": {},
   "outputs": [],
   "source": []
  }
 ],
 "metadata": {
  "kernelspec": {
   "display_name": "Python 3",
   "language": "python",
   "name": "python3"
  },
  "language_info": {
   "codemirror_mode": {
    "name": "ipython",
    "version": 3
   },
   "file_extension": ".py",
   "mimetype": "text/x-python",
   "name": "python",
   "nbconvert_exporter": "python",
   "pygments_lexer": "ipython3",
   "version": "3.7.0"
  }
 },
 "nbformat": 4,
 "nbformat_minor": 2
}
